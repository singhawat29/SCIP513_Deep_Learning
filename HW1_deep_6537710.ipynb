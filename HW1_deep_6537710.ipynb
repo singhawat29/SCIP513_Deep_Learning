{
  "nbformat": 4,
  "nbformat_minor": 0,
  "metadata": {
    "colab": {
      "provenance": [],
      "authorship_tag": "ABX9TyNiljCPxPB2lxK+qjY2H0ho",
      "include_colab_link": true
    },
    "kernelspec": {
      "name": "python3",
      "display_name": "Python 3"
    },
    "language_info": {
      "name": "python"
    }
  },
  "cells": [
    {
      "cell_type": "markdown",
      "metadata": {
        "id": "view-in-github",
        "colab_type": "text"
      },
      "source": [
        "<a href=\"https://colab.research.google.com/github/singhawat29/SCIP513_Deep_Learning/blob/master/HW1_deep_6537710.ipynb\" target=\"_parent\"><img src=\"https://colab.research.google.com/assets/colab-badge.svg\" alt=\"Open In Colab\"/></a>"
      ]
    },
    {
      "cell_type": "markdown",
      "source": [
        "#ข้อ1"
      ],
      "metadata": {
        "id": "Fu62Fu_yEoNs"
      }
    },
    {
      "cell_type": "code",
      "execution_count": null,
      "metadata": {
        "colab": {
          "base_uri": "https://localhost:8080/",
          "height": 279
        },
        "id": "TloUr4dtEh_2",
        "outputId": "ab98fb66-932a-4b0d-acd7-026b8219fc43"
      },
      "outputs": [
        {
          "output_type": "display_data",
          "data": {
            "text/plain": [
              "<Figure size 432x288 with 1 Axes>"
            ],
            "image/png": "[encoded data removed]"
          },
          "metadata": {
            "needs_background": "light"
          }
        }
      ],
      "source": [
        "import numpy as np\n",
        "from matplotlib import pyplot as plt\n",
        "n = 50\n",
        "x = np.linspace(0, 1, n)\n",
        "a = 5; b = -4; c = 3\n",
        "y = a*x*x + b*x + c + 0.5*np.random.randn(n)\n",
        "plt.plot(x,y,'o')\n",
        "plt.xlabel('x')\n",
        "plt.ylabel('y')\n",
        "plt.show()"
      ]
    },
    {
      "cell_type": "markdown",
      "source": [
        "#ข้อ4"
      ],
      "metadata": {
        "id": "r1aLxgPXZ03k"
      }
    },
    {
      "cell_type": "code",
      "source": [
        "x_4 = 0\n",
        "for i in range(0,n,1):\n",
        "  x_4 = x[i]**4 + x_4\n",
        "  print(i,x[i],x_4)"
      ],
      "metadata": {
        "colab": {
          "base_uri": "https://localhost:8080/"
        },
        "id": "YrBd4hNEF_U_",
        "outputId": "1e9815aa-dfa5-458f-904c-88958bb45a23"
      },
      "execution_count": null,
      "outputs": [
        {
          "output_type": "stream",
          "name": "stdout",
          "text": [
            "0 0.0 0.0\n",
            "1 0.02040816326530612 1.734665255574303e-07\n",
            "2 0.04081632653061224 2.948930934476315e-06\n",
            "3 0.061224489795918366 1.699971950462817e-05\n",
            "4 0.08163265306122448 6.140715004733033e-05\n",
            "5 0.1020408163265306 0.00016982372852072426\n",
            "6 0.12244897959183673 0.00039463634564315393\n",
            "7 0.14285714285714285 0.0008111294735065441\n",
            "8 0.16326530612244897 0.0015216483621897786\n",
            "9 0.18367346938775508 0.0026597622363720786\n",
            "10 0.2040816326530612 0.004394427491946381\n",
            "11 0.22448979591836732 0.006934150892632718\n",
            "12 0.24489795918367346 0.010531152766591593\n",
            "13 0.26530612244897955 0.015485530203037359\n",
            "14 0.2857142857142857 0.022149420248851602\n",
            "15 0.3061224489795918 0.03093116310519651\n",
            "16 0.32653061224489793 0.04229946532412826\n",
            "17 0.3469387755102041 0.0567875630052104\n",
            "18 0.36734693877551017 0.0749973849921272\n",
            "19 0.3877551020408163 0.09760371606929708\n",
            "20 0.4081632653061224 0.12535836015848592\n",
            "21 0.42857142857142855 0.15909430351542053\n",
            "22 0.44897959183673464 0.1997298779264019\n",
            "23 0.4693877551020408 0.24827292390491876\n",
            "24 0.4897959183673469 0.30582495388826075\n",
            "25 0.5102040816326531 0.373585315434132\n",
            "26 0.5306122448979591 0.4528553544172642\n",
            "27 0.5510204081632653 0.5450425782260305\n",
            "28 0.5714285714285714 0.6516648189590584\n",
            "29 0.5918367346938775 0.7743543966218432\n",
            "30 0.6122448979591836 0.9148622823233618\n",
            "31 0.6326530612244897 1.0750622614726852\n",
            "32 0.6530612244897959 1.2569550969755934\n",
            "33 0.673469387755102 1.4626726924311866\n",
            "34 0.6938775510204082 1.6944822553285008\n",
            "35 0.7142857142857142 1.9547904602431196\n",
            "36 0.7346938775510203 2.2461476120337887\n",
            "37 0.7551020408163265 2.571251809039028\n",
            "38 0.7755102040816326 2.9329531062737457\n",
            "39 0.7959183673469387 3.334257678625853\n",
            "40 0.8163265306122448 3.7783319840528744\n",
            "41 0.836734693877551 4.2685069267785645\n",
            "42 0.8571428571428571 4.808282020489518\n",
            "43 0.8775510204081632 5.401329551531786\n",
            "44 0.8979591836734693 6.051498742107488\n",
            "45 0.9183673469387754 6.762819913471425\n",
            "46 0.9387755102040816 7.539508649127694\n",
            "47 0.9591836734693877 8.385969958026301\n",
            "48 0.9795918367346939 9.306802437759773\n",
            "49 1.0 10.306802437759773\n"
          ]
        }
      ]
    },
    {
      "cell_type": "code",
      "source": [
        "x_44 = x**4"
      ],
      "metadata": {
        "id": "Y1ULRUeqUfVw"
      },
      "execution_count": null,
      "outputs": []
    },
    {
      "cell_type": "code",
      "source": [
        "sum(x_44)"
      ],
      "metadata": {
        "colab": {
          "base_uri": "https://localhost:8080/"
        },
        "id": "y60gPAx9VeGC",
        "outputId": "fa3958ea-5f9f-4f6e-c318-de3f47ca4c9f"
      },
      "execution_count": null,
      "outputs": [
        {
          "output_type": "execute_result",
          "data": {
            "text/plain": [
              "10.306802437759773"
            ]
          },
          "metadata": {},
          "execution_count": 18
        }
      ]
    },
    {
      "cell_type": "code",
      "source": [
        "sum(x**4)"
      ],
      "metadata": {
        "colab": {
          "base_uri": "https://localhost:8080/"
        },
        "id": "mhGQoc0iXfB8",
        "outputId": "c894aba2-3e9f-4c7f-8fc0-105486a9caad"
      },
      "execution_count": null,
      "outputs": [
        {
          "output_type": "execute_result",
          "data": {
            "text/plain": [
              "10.306802437759773"
            ]
          },
          "metadata": {},
          "execution_count": 27
        }
      ]
    },
    {
      "cell_type": "code",
      "source": [
        "xy = (x**2)*(y)"
      ],
      "metadata": {
        "id": "LI8mlWbqYQDV"
      },
      "execution_count": null,
      "outputs": []
    },
    {
      "cell_type": "code",
      "source": [
        "x*y"
      ],
      "metadata": {
        "colab": {
          "base_uri": "https://localhost:8080/"
        },
        "id": "1SOFgbnaYk-G",
        "outputId": "995816cf-fb06-4e14-bf71-82ea1726e837"
      },
      "execution_count": null,
      "outputs": [
        {
          "output_type": "execute_result",
          "data": {
            "text/plain": [
              "array([0.        , 0.04729978, 0.14234698, 0.14920566, 0.24890571,\n",
              "       0.13553882, 0.33858662, 0.32907405, 0.32065037, 0.62839328,\n",
              "       0.34763514, 0.47045816, 0.72918361, 0.61032579, 0.55989842,\n",
              "       0.78253055, 0.59367377, 0.75392276, 0.79688906, 0.97567803,\n",
              "       0.61823471, 0.97685789, 0.97056023, 1.26855057, 1.15060291,\n",
              "       1.24328002, 1.04917999, 1.30021806, 1.94415561, 1.60133697,\n",
              "       1.04154507, 1.62800252, 1.15490154, 1.56514049, 1.90562459,\n",
              "       1.78344681, 1.67897847, 2.80885371, 2.03741846, 2.68552455,\n",
              "       2.52635885, 2.81787409, 3.10103943, 3.68297063, 3.61202116,\n",
              "       2.97339527, 4.060097  , 4.26685168, 3.81761013, 4.55342866])"
            ]
          },
          "metadata": {},
          "execution_count": 40
        }
      ]
    },
    {
      "cell_type": "code",
      "source": [
        "A = np.array([[sum(x**4), sum(x**3),sum(x**2)], [sum(x**3), sum(x**2),sum(x)], [sum(x**2), sum(x),n]])\n",
        "A"
      ],
      "metadata": {
        "colab": {
          "base_uri": "https://localhost:8080/"
        },
        "id": "XruOFiWlWiDn",
        "outputId": "aadd108d-e1b5-49f6-86c7-8b2ff7877947"
      },
      "execution_count": null,
      "outputs": [
        {
          "output_type": "execute_result",
          "data": {
            "text/plain": [
              "array([[10.30680244, 12.75510204, 16.83673469],\n",
              "       [12.75510204, 16.83673469, 25.        ],\n",
              "       [16.83673469, 25.        , 50.        ]])"
            ]
          },
          "metadata": {},
          "execution_count": 32
        }
      ]
    },
    {
      "cell_type": "code",
      "source": [
        "b = np.array([sum((x**2)*(y)), sum(x*y),sum(y)])\n",
        "b"
      ],
      "metadata": {
        "colab": {
          "base_uri": "https://localhost:8080/"
        },
        "id": "QDWqOAO3W297",
        "outputId": "0e0172de-5753-4ae9-9bf3-34aa96cffa6f"
      },
      "execution_count": null,
      "outputs": [
        {
          "output_type": "execute_result",
          "data": {
            "text/plain": [
              "array([ 54.20700689,  74.78425662, 136.66664431])"
            ]
          },
          "metadata": {},
          "execution_count": 45
        }
      ]
    },
    {
      "cell_type": "code",
      "source": [
        "x = np.linalg.inv(A).dot(b)\n",
        "x"
      ],
      "metadata": {
        "colab": {
          "base_uri": "https://localhost:8080/"
        },
        "id": "_8BM5T6qY0L2",
        "outputId": "2aceff4e-0e00-4864-a729-0759d61bfc63"
      },
      "execution_count": null,
      "outputs": [
        {
          "output_type": "execute_result",
          "data": {
            "text/plain": [
              "array([ 5.7748883 , -4.2873787 ,  2.93241699])"
            ]
          },
          "metadata": {},
          "execution_count": 49
        }
      ]
    },
    {
      "cell_type": "markdown",
      "source": [
        "#ข้อ6"
      ],
      "metadata": {
        "id": "2NmZ5103OL1I"
      }
    },
    {
      "cell_type": "code",
      "source": [],
      "metadata": {
        "id": "x9TH9RSlZi-0"
      },
      "execution_count": null,
      "outputs": []
    }
  ]
}