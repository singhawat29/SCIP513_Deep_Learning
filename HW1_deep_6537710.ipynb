{
  "nbformat": 4,
  "nbformat_minor": 0,
  "metadata": {
    "colab": {
      "provenance": [],
      "authorship_tag": "ABX9TyONGGUQVP8wyOSiY8wEC7oZ",
      "include_colab_link": true
    },
    "kernelspec": {
      "name": "python3",
      "display_name": "Python 3"
    },
    "language_info": {
      "name": "python"
    }
  },
  "cells": [
    {
      "cell_type": "markdown",
      "metadata": {
        "id": "view-in-github",
        "colab_type": "text"
      },
      "source": [
        "<a href=\"https://colab.research.google.com/github/singhawat29/SCIP513_Deep_Learning/blob/master/HW1_deep_6537710.ipynb\" target=\"_parent\"><img src=\"https://colab.research.google.com/assets/colab-badge.svg\" alt=\"Open In Colab\"/></a>"
      ]
    },
    {
      "cell_type": "markdown",
      "source": [
        "#ข้อ1"
      ],
      "metadata": {
        "id": "Fu62Fu_yEoNs"
      }
    },
    {
      "cell_type": "code",
      "execution_count": null,
      "metadata": {
        "colab": {
          "base_uri": "https://localhost:8080/",
          "height": 279
        },
        "id": "TloUr4dtEh_2",
        "outputId": "974ca974-6dff-4979-f617-9337ab92822a"
      },
      "outputs": [
        {
          "output_type": "display_data",
          "data": {
            "text/plain": [
              "<Figure size 432x288 with 1 Axes>"
            ],
            "image/png": "[encoded data removed]"
          },
          "metadata": {
            "needs_background": "light"
          }
        }
      ],
      "source": [
        "import numpy as np\n",
        "from matplotlib import pyplot as plt\n",
        "n = 50\n",
        "x = np.linspace(0, 1, n)\n",
        "a = 5; b = -4; c = 3\n",
        "y = a*x*x + b*x + c + 0.5*np.random.randn(n)\n",
        "plt.plot(x,y,'o')\n",
        "plt.xlabel('x')\n",
        "plt.ylabel('y')\n",
        "plt.show()"
      ]
    },
    {
      "cell_type": "markdown",
      "source": [
        "#ข้อ4"
      ],
      "metadata": {
        "id": "r1aLxgPXZ03k"
      }
    },
    {
      "cell_type": "code",
      "source": [
        "x_4 = 0\n",
        "for i in range(0,n,1):\n",
        "  x_4 = x[i]**4 + x_4\n",
        "  print(i,x[i],x_4)"
      ],
      "metadata": {
        "colab": {
          "base_uri": "https://localhost:8080/"
        },
        "id": "YrBd4hNEF_U_",
        "outputId": "ce66fb83-2a0c-4463-f048-668d02d4d9b5"
      },
      "execution_count": null,
      "outputs": [
        {
          "output_type": "stream",
          "name": "stdout",
          "text": [
            "0 0.0 0.0\n",
            "1 0.02040816326530612 1.734665255574303e-07\n",
            "2 0.04081632653061224 2.948930934476315e-06\n",
            "3 0.061224489795918366 1.699971950462817e-05\n",
            "4 0.08163265306122448 6.140715004733033e-05\n",
            "5 0.1020408163265306 0.00016982372852072426\n",
            "6 0.12244897959183673 0.00039463634564315393\n",
            "7 0.14285714285714285 0.0008111294735065441\n",
            "8 0.16326530612244897 0.0015216483621897786\n",
            "9 0.18367346938775508 0.0026597622363720786\n",
            "10 0.2040816326530612 0.004394427491946381\n",
            "11 0.22448979591836732 0.006934150892632718\n",
            "12 0.24489795918367346 0.010531152766591593\n",
            "13 0.26530612244897955 0.015485530203037359\n",
            "14 0.2857142857142857 0.022149420248851602\n",
            "15 0.3061224489795918 0.03093116310519651\n",
            "16 0.32653061224489793 0.04229946532412826\n",
            "17 0.3469387755102041 0.0567875630052104\n",
            "18 0.36734693877551017 0.0749973849921272\n",
            "19 0.3877551020408163 0.09760371606929708\n",
            "20 0.4081632653061224 0.12535836015848592\n",
            "21 0.42857142857142855 0.15909430351542053\n",
            "22 0.44897959183673464 0.1997298779264019\n",
            "23 0.4693877551020408 0.24827292390491876\n",
            "24 0.4897959183673469 0.30582495388826075\n",
            "25 0.5102040816326531 0.373585315434132\n",
            "26 0.5306122448979591 0.4528553544172642\n",
            "27 0.5510204081632653 0.5450425782260305\n",
            "28 0.5714285714285714 0.6516648189590584\n",
            "29 0.5918367346938775 0.7743543966218432\n",
            "30 0.6122448979591836 0.9148622823233618\n",
            "31 0.6326530612244897 1.0750622614726852\n",
            "32 0.6530612244897959 1.2569550969755934\n",
            "33 0.673469387755102 1.4626726924311866\n",
            "34 0.6938775510204082 1.6944822553285008\n",
            "35 0.7142857142857142 1.9547904602431196\n",
            "36 0.7346938775510203 2.2461476120337887\n",
            "37 0.7551020408163265 2.571251809039028\n",
            "38 0.7755102040816326 2.9329531062737457\n",
            "39 0.7959183673469387 3.334257678625853\n",
            "40 0.8163265306122448 3.7783319840528744\n",
            "41 0.836734693877551 4.2685069267785645\n",
            "42 0.8571428571428571 4.808282020489518\n",
            "43 0.8775510204081632 5.401329551531786\n",
            "44 0.8979591836734693 6.051498742107488\n",
            "45 0.9183673469387754 6.762819913471425\n",
            "46 0.9387755102040816 7.539508649127694\n",
            "47 0.9591836734693877 8.385969958026301\n",
            "48 0.9795918367346939 9.306802437759773\n",
            "49 1.0 10.306802437759773\n"
          ]
        }
      ]
    },
    {
      "cell_type": "code",
      "source": [
        "x_44 = x**4"
      ],
      "metadata": {
        "id": "Y1ULRUeqUfVw"
      },
      "execution_count": null,
      "outputs": []
    },
    {
      "cell_type": "code",
      "source": [
        "sum(x_44)"
      ],
      "metadata": {
        "colab": {
          "base_uri": "https://localhost:8080/"
        },
        "id": "y60gPAx9VeGC",
        "outputId": "58e6c595-f160-42d1-b55d-f25b45f1c24f"
      },
      "execution_count": null,
      "outputs": [
        {
          "output_type": "execute_result",
          "data": {
            "text/plain": [
              "10.306802437759773"
            ]
          },
          "metadata": {},
          "execution_count": 5
        }
      ]
    },
    {
      "cell_type": "code",
      "source": [
        "sum(x**4)"
      ],
      "metadata": {
        "colab": {
          "base_uri": "https://localhost:8080/"
        },
        "id": "mhGQoc0iXfB8",
        "outputId": "101e9a10-7f39-4135-903f-06a26cd55f5f"
      },
      "execution_count": null,
      "outputs": [
        {
          "output_type": "execute_result",
          "data": {
            "text/plain": [
              "10.306802437759773"
            ]
          },
          "metadata": {},
          "execution_count": 6
        }
      ]
    },
    {
      "cell_type": "code",
      "source": [
        "xy = (x**2)*(y)"
      ],
      "metadata": {
        "id": "LI8mlWbqYQDV"
      },
      "execution_count": null,
      "outputs": []
    },
    {
      "cell_type": "code",
      "source": [
        "x*y"
      ],
      "metadata": {
        "colab": {
          "base_uri": "https://localhost:8080/"
        },
        "id": "1SOFgbnaYk-G",
        "outputId": "536491cd-8091-42f1-ee82-ab77f6867b63"
      },
      "execution_count": null,
      "outputs": [
        {
          "output_type": "execute_result",
          "data": {
            "text/plain": [
              "array([0.        , 0.05402571, 0.16492442, 0.17904112, 0.22993243,\n",
              "       0.1587845 , 0.29220649, 0.22638993, 0.46131332, 0.57739816,\n",
              "       0.53230084, 0.43818821, 0.68517166, 0.44483222, 0.60767778,\n",
              "       0.71777567, 0.5452675 , 0.70987611, 0.66783983, 0.75430792,\n",
              "       1.02149505, 0.88346707, 0.79063607, 1.34293487, 1.22216382,\n",
              "       0.9254628 , 0.98890749, 0.99206189, 1.51502548, 1.76094389,\n",
              "       1.25084003, 1.32681057, 1.78487732, 1.44461814, 1.6324278 ,\n",
              "       1.74327733, 1.77205174, 1.90114754, 2.07818567, 2.38292864,\n",
              "       3.64127124, 2.69726354, 2.5574241 , 2.90332582, 3.91160224,\n",
              "       4.01810182, 3.32156355, 3.1729086 , 3.24523066, 3.62514323])"
            ]
          },
          "metadata": {},
          "execution_count": 8
        }
      ]
    },
    {
      "cell_type": "code",
      "source": [
        "A = np.array([[sum(x**4), sum(x**3),sum(x**2)], [sum(x**3), sum(x**2),sum(x)], [sum(x**2), sum(x),n]])\n",
        "A"
      ],
      "metadata": {
        "colab": {
          "base_uri": "https://localhost:8080/"
        },
        "id": "XruOFiWlWiDn",
        "outputId": "b075385e-af50-464c-b4cb-72d95c6538ee"
      },
      "execution_count": null,
      "outputs": [
        {
          "output_type": "execute_result",
          "data": {
            "text/plain": [
              "array([[10.30680244, 12.75510204, 16.83673469],\n",
              "       [12.75510204, 16.83673469, 25.        ],\n",
              "       [16.83673469, 25.        , 50.        ]])"
            ]
          },
          "metadata": {},
          "execution_count": 9
        }
      ]
    },
    {
      "cell_type": "code",
      "source": [
        "b = np.array([sum((x**2)*(y)), sum(x*y),sum(y)])\n",
        "b"
      ],
      "metadata": {
        "colab": {
          "base_uri": "https://localhost:8080/"
        },
        "id": "QDWqOAO3W297",
        "outputId": "2258fe07-e56b-46d2-cdd5-dd79fd9c927c"
      },
      "execution_count": null,
      "outputs": [
        {
          "output_type": "execute_result",
          "data": {
            "text/plain": [
              "array([ 50.48752883,  70.30135182, 131.6786808 ])"
            ]
          },
          "metadata": {},
          "execution_count": 10
        }
      ]
    },
    {
      "cell_type": "code",
      "source": [
        "x = np.linalg.inv(A).dot(b)\n",
        "x"
      ],
      "metadata": {
        "colab": {
          "base_uri": "https://localhost:8080/"
        },
        "id": "_8BM5T6qY0L2",
        "outputId": "b8813a1f-72fb-40fe-f285-45eae44e180d"
      },
      "execution_count": null,
      "outputs": [
        {
          "output_type": "execute_result",
          "data": {
            "text/plain": [
              "array([ 5.60541966, -4.57653232,  3.0343005 ])"
            ]
          },
          "metadata": {},
          "execution_count": 11
        }
      ]
    },
    {
      "cell_type": "markdown",
      "source": [
        "#ข้อ6"
      ],
      "metadata": {
        "id": "2NmZ5103OL1I"
      }
    },
    {
      "cell_type": "markdown",
      "source": [
        "###ทดสอบ"
      ],
      "metadata": {
        "id": "ncBmLA_SjsdC"
      }
    },
    {
      "cell_type": "code",
      "source": [
        "m = np.random.randn(3)\n",
        "m[0]\n",
        "m"
      ],
      "metadata": {
        "colab": {
          "base_uri": "https://localhost:8080/"
        },
        "id": "wTH5MyZVIOLG",
        "outputId": "ca304095-ced4-4605-870b-bbee2a2370e7"
      },
      "execution_count": null,
      "outputs": [
        {
          "output_type": "execute_result",
          "data": {
            "text/plain": [
              "array([-1.10782826,  0.18173176,  0.44760081])"
            ]
          },
          "metadata": {},
          "execution_count": 38
        }
      ]
    },
    {
      "cell_type": "code",
      "source": [
        "k = m[0]*x*x +  m[1]*x +  m[2] - y\n",
        "k"
      ],
      "metadata": {
        "colab": {
          "base_uri": "https://localhost:8080/"
        },
        "id": "6YfdewNHM_nE",
        "outputId": "72104c3b-11bc-426b-fc6f-33549f546d7c"
      },
      "execution_count": null,
      "outputs": [
        {
          "output_type": "execute_result",
          "data": {
            "text/plain": [
              "array([-2.0306046 , -1.36489842, -2.04942748, -1.28373824, -2.84451785,\n",
              "       -2.74178896, -3.56233519, -2.54332675, -2.77509819, -2.1701963 ,\n",
              "       -3.18342417, -2.40739825, -1.97847778, -1.32418499, -2.43903206,\n",
              "       -2.44360806, -1.04194483, -1.45317051, -0.60441492, -1.97652344,\n",
              "       -2.17847795, -3.1350999 , -2.16018413, -2.41357359, -1.51525786,\n",
              "       -1.43959766, -1.50701741, -2.01043892, -1.95701899, -2.77605869,\n",
              "       -2.14146674, -3.03714392, -3.02380224, -2.16293861, -3.31469358,\n",
              "       -2.07034187, -2.82377421, -3.31577391, -2.87348436, -2.34352571,\n",
              "       -3.51903452, -2.23486726, -3.55713896, -2.83625683, -3.94316139,\n",
              "       -3.50876606, -3.1275976 , -4.12317006, -4.19919697, -4.10438308])"
            ]
          },
          "metadata": {},
          "execution_count": 45
        }
      ]
    },
    {
      "cell_type": "code",
      "source": [
        "g= np.array([[sum((k*x**2))], [sum((k*x))], [sum(k)]])  \n",
        "g  \n"
      ],
      "metadata": {
        "colab": {
          "base_uri": "https://localhost:8080/"
        },
        "id": "hZUUwUdqHq_J",
        "outputId": "4ccfea34-9608-42b9-ede5-a8e562086d30"
      },
      "execution_count": null,
      "outputs": [
        {
          "output_type": "execute_result",
          "data": {
            "text/plain": [
              "array([[ -50.25634556],\n",
              "       [ -69.40533333],\n",
              "       [-125.57135392]])"
            ]
          },
          "metadata": {},
          "execution_count": 49
        }
      ]
    },
    {
      "cell_type": "code",
      "source": [
        "g_T = np.transpose(g)  \n",
        "g_T"
      ],
      "metadata": {
        "colab": {
          "base_uri": "https://localhost:8080/"
        },
        "id": "IFw0u0yHOiNM",
        "outputId": "94230b27-e9f6-445d-8bef-05fa75cc834d"
      },
      "execution_count": null,
      "outputs": [
        {
          "output_type": "execute_result",
          "data": {
            "text/plain": [
              "array([[ -50.25634556,  -69.40533333, -125.57135392]])"
            ]
          },
          "metadata": {},
          "execution_count": 51
        }
      ]
    },
    {
      "cell_type": "code",
      "source": [
        "np.matmul(g_T, g)"
      ],
      "metadata": {
        "colab": {
          "base_uri": "https://localhost:8080/"
        },
        "id": "Ta9OD188PepI",
        "outputId": "12aa0207-1fdd-40ac-a44c-4ae45fc40b5f"
      },
      "execution_count": null,
      "outputs": [
        {
          "output_type": "execute_result",
          "data": {
            "text/plain": [
              "array([[23110.96548944]])"
            ]
          },
          "metadata": {},
          "execution_count": 55
        }
      ]
    },
    {
      "cell_type": "code",
      "source": [
        "D = np.matmul(A, g)\n",
        "D_T = np.transpose(D)  \n",
        "low = np.matmul(D_T, D)\n",
        "low"
      ],
      "metadata": {
        "colab": {
          "base_uri": "https://localhost:8080/"
        },
        "id": "3T8IPE2cPvCz",
        "outputId": "c5449de5-2d25-4d9b-fbeb-cb3e6ea19205"
      },
      "execution_count": null,
      "outputs": [
        {
          "output_type": "execute_result",
          "data": {
            "text/plain": [
              "array([[1.15360868e+08]])"
            ]
          },
          "metadata": {},
          "execution_count": 59
        }
      ]
    },
    {
      "cell_type": "code",
      "source": [
        "lr = np.matmul(g_T, g)/np.matmul(D_T, D)\n",
        "lr"
      ],
      "metadata": {
        "colab": {
          "base_uri": "https://localhost:8080/"
        },
        "id": "DOYS0trGPvOa",
        "outputId": "eac65187-ba34-4fcc-bf53-5d5684b30234"
      },
      "execution_count": null,
      "outputs": [
        {
          "output_type": "execute_result",
          "data": {
            "text/plain": [
              "array([[0.00020034]])"
            ]
          },
          "metadata": {},
          "execution_count": 61
        }
      ]
    },
    {
      "cell_type": "code",
      "source": [
        "from numpy.core.fromnumeric import reshape\n",
        "m0 = np.random.randn(3)\n",
        "m0 = reshape(m0,(3,1))\n",
        "g = grad(m0,x,y)\n",
        "g"
      ],
      "metadata": {
        "colab": {
          "base_uri": "https://localhost:8080/"
        },
        "id": "TaCmIfbcfgcY",
        "outputId": "17a2fa6c-7205-4b21-cc8a-b82ca24ffe6d"
      },
      "execution_count": 86,
      "outputs": [
        {
          "output_type": "execute_result",
          "data": {
            "text/plain": [
              "array([[ -57.2845786 ],\n",
              "       [ -82.42548466],\n",
              "       [-160.23950455]])"
            ]
          },
          "metadata": {},
          "execution_count": 86
        }
      ]
    },
    {
      "cell_type": "code",
      "source": [
        "s = step(m0,g,A)\n",
        "s"
      ],
      "metadata": {
        "colab": {
          "base_uri": "https://localhost:8080/"
        },
        "id": "K8ASjQlufuwO",
        "outputId": "4f187424-b2ae-4838-b1e9-ae319e61b8b6"
      },
      "execution_count": 87,
      "outputs": [
        {
          "output_type": "execute_result",
          "data": {
            "text/plain": [
              "array([[0.00020068]])"
            ]
          },
          "metadata": {},
          "execution_count": 87
        }
      ]
    },
    {
      "cell_type": "code",
      "source": [
        "sg = s*g\n",
        "sg"
      ],
      "metadata": {
        "colab": {
          "base_uri": "https://localhost:8080/"
        },
        "id": "EvglIixCf8kR",
        "outputId": "633c4462-2ef9-4651-bc9a-3d670d26a320"
      },
      "execution_count": 88,
      "outputs": [
        {
          "output_type": "execute_result",
          "data": {
            "text/plain": [
              "array([[-0.01149562],\n",
              "       [-0.01654079],\n",
              "       [-0.03215617]])"
            ]
          },
          "metadata": {},
          "execution_count": 88
        }
      ]
    },
    {
      "cell_type": "code",
      "source": [
        "m = m0 - sg\n",
        "m"
      ],
      "metadata": {
        "colab": {
          "base_uri": "https://localhost:8080/"
        },
        "id": "AJo1zGttgJkM",
        "outputId": "831cead3-f0b6-42ea-9309-25fa8bdd824f"
      },
      "execution_count": 89,
      "outputs": [
        {
          "output_type": "execute_result",
          "data": {
            "text/plain": [
              "array([[ 0.00766506],\n",
              "       [ 0.08901497],\n",
              "       [-0.53073157]])"
            ]
          },
          "metadata": {},
          "execution_count": 89
        }
      ]
    },
    {
      "cell_type": "code",
      "source": [
        "b=np.transpose(a, (1,0))  \n",
        "b   "
      ],
      "metadata": {
        "colab": {
          "base_uri": "https://localhost:8080/"
        },
        "id": "StgybtzwHrpM",
        "outputId": "0cf63e21-298e-4cec-d3de-c312ae725633"
      },
      "execution_count": 106,
      "outputs": [
        {
          "output_type": "execute_result",
          "data": {
            "text/plain": [
              "array([[ -50.25634556,  -69.40533333, -125.57135392]])"
            ]
          },
          "metadata": {},
          "execution_count": 106
        }
      ]
    },
    {
      "cell_type": "code",
      "source": [
        "a = np.array([[1, 0],\n",
        "              [0, 1]])\n",
        "b = np.array([[4, 1],\n",
        "              [2, 2]])\n",
        "np.matmul(a, b)"
      ],
      "metadata": {
        "colab": {
          "base_uri": "https://localhost:8080/"
        },
        "id": "WZ5Ygug3HuvB",
        "outputId": "3457ca74-da9a-443c-a9bb-35ea834b3258"
      },
      "execution_count": null,
      "outputs": [
        {
          "output_type": "execute_result",
          "data": {
            "text/plain": [
              "array([[4, 1],\n",
              "       [2, 2]])"
            ]
          },
          "metadata": {},
          "execution_count": 24
        }
      ]
    },
    {
      "cell_type": "markdown",
      "source": [
        "##ส่ง"
      ],
      "metadata": {
        "id": "0tgj7H1NkQ0O"
      }
    },
    {
      "cell_type": "code",
      "source": [
        "def step(m,g,A):\n",
        "    g_T = np.transpose(g) \n",
        "    D = np.matmul(A, g) \n",
        "    D_T = np.transpose(D)  \n",
        "    return np.matmul(g_T, g)/np.matmul(D_T, D)"
      ],
      "metadata": {
        "id": "eTyC0yzqb-SZ"
      },
      "execution_count": 101,
      "outputs": []
    },
    {
      "cell_type": "code",
      "source": [
        "def grad(m,x,y):\n",
        "    k = m[0]*x*x +  m[1]*x +  m[2] - y\n",
        "    return np.array([[sum((k*x**2))], [sum((k*x))], [sum(k)]]) "
      ],
      "metadata": {
        "id": "jfjVpitvdS-X"
      },
      "execution_count": 102,
      "outputs": []
    },
    {
      "cell_type": "code",
      "source": [
        "# loss function\n",
        "def loss(m,x,y):\n",
        "    e = m[0]*x*x +  m[1]*x +  m[2] - y\n",
        "    return 0.5*np.sum(e*e)"
      ],
      "metadata": {
        "id": "COaOyukja3RJ"
      },
      "execution_count": 103,
      "outputs": []
    },
    {
      "cell_type": "code",
      "source": [
        "m0 = np.random.randn(3)\n",
        "m0 = reshape(m0,(3,1))\n",
        "print(m0)\n",
        "for i in range(1000):\n",
        "    g = grad(m0,x,y)\n",
        "    s = step(m0,g,A)\n",
        "    m = m0 - s*g\n",
        "    print(loss(m,x,y))\n",
        "    #print(m)\n",
        "    m0 = m\n",
        "    plt.plot(i,loss(m,x,y),'.r')\n",
        "plt.title('Loss function')\n",
        "plt.xlabel(\"epoch\")\n",
        "plt.ylabel(\"Loss function\")\n",
        "plt.show()\n",
        "print(\"m=\",m)"
      ],
      "metadata": {
        "id": "Dy85LrUvRox7",
        "colab": {
          "base_uri": "https://localhost:8080/",
          "height": 1000
        },
        "outputId": "3fb265ea-b1c2-447a-e9b3-197139045aae"
      },
      "execution_count": 112,
      "outputs": [
        {
          "output_type": "stream",
          "name": "stdout",
          "text": [
            "[[ 0.47163996]\n",
            " [-1.16752236]\n",
            " [-1.12370221]]\n",
            "448.01851862744655\n",
            "435.8193123708872\n",
            "423.96272360127585\n",
            "412.4391229334797\n",
            "401.2391516363867\n",
            "390.35371402554864\n",
            "379.773970069648\n",
            "369.49132820477564\n",
            "359.4974383506803\n",
            "349.7841851233117\n",
            "340.3436812381416\n",
            "331.1682610988979\n",
            "322.25047456650367\n",
            "313.58308090315273\n",
            "305.1590428866018\n",
            "296.9715210898935\n",
            "289.0138683218601\n",
            "281.27962422389083\n",
            "273.7625100185674\n",
            "266.4564234059026\n",
            "259.35543360303114\n",
            "252.45377652332036\n",
            "245.7458500909842\n",
            "239.22620968738931\n",
            "232.8895637253537\n",
            "226.73076934783924\n",
            "220.74482824754242\n",
            "214.9268826039841\n",
            "209.27221113479763\n",
            "203.77622525800297\n",
            "198.43446536214964\n",
            "193.24259718129503\n",
            "188.19640827187226\n",
            "183.2918045885833\n",
            "178.52480715653422\n",
            "173.89154883690736\n",
            "169.38827118354152\n",
            "165.01132138786463\n",
            "160.75714930969596\n",
            "156.622304591504\n",
            "152.60343385377428\n",
            "148.69727796920773\n",
            "144.90066941353345\n",
            "141.21052969078215\n",
            "137.62386683092868\n",
            "134.13777295786772\n",
            "130.74942192574744\n",
            "127.45606702173832\n",
            "124.25503873337105\n",
            "121.14374257862771\n",
            "118.1196569970229\n",
            "115.18033129996036\n",
            "112.32338367869889\n",
            "109.54649926830888\n",
            "106.84742826604463\n",
            "104.22398410260422\n",
            "101.67404166478924\n",
            "99.1955355681207\n",
            "96.78645847800591\n",
            "94.44485947809267\n",
            "92.16884248448383\n",
            "89.95656470452326\n",
            "87.80623513890072\n",
            "85.7161131258578\n",
            "83.68450692631137\n",
            "81.70977234874516\n",
            "79.79031141275077\n",
            "77.92457105013234\n",
            "76.11104184251906\n",
            "74.34825679445882\n",
            "72.63479014099656\n",
            "70.96925618876713\n",
            "69.35030818966126\n",
            "67.77663724614887\n",
            "66.24697124736971\n",
            "64.76007383512705\n",
            "63.314743398943115\n",
            "61.90981209936014\n",
            "60.544144918692766\n",
            "59.21663873845996\n",
            "57.92622144274706\n",
            "56.67185104676865\n",
            "55.452514849924114\n",
            "54.26722861265729\n",
            "53.11503575645135\n",
            "51.99500658630825\n",
            "50.906237535081026\n",
            "49.8478504290447\n",
            "48.8189917741084\n",
            "47.81883206208905\n",
            "46.84656509648228\n",
            "45.90140733718259\n",
            "44.9825972636204\n",
            "44.089394755797784\n",
            "43.22108049272024\n",
            "42.37695536773524\n",
            "41.556339920302314\n",
            "40.758573783732835\n",
            "39.98301514845062\n",
            "39.229040240336886\n",
            "38.49604281373575\n",
            "37.78343365870789\n",
            "37.09064012213211\n",
            "36.41710564226523\n",
            "35.762289296382164\n",
            "35.12566536112847\n",
            "34.50672288522776\n",
            "33.90496527419693\n",
            "33.31990988673145\n",
            "32.7510876424326\n",
            "32.19804264055801\n",
            "31.660331789485166\n",
            "31.13752444658715\n",
            "30.629202068227503\n",
            "30.134957869589872\n",
            "29.654396494065896\n",
            "29.187133691932452\n",
            "28.732796008057242\n",
            "28.29102047837868\n",
            "27.861454334913397\n",
            "27.44375471905163\n",
            "27.037588402907254\n",
            "26.64263151849606\n",
            "26.25856929452208\n",
            "25.88509580055793\n",
            "25.521913698411247\n",
            "25.16873400047498\n",
            "24.82527583486527\n",
            "24.491266217155694\n",
            "24.166439828522524\n",
            "23.850538800120482\n",
            "23.54331250351372\n",
            "23.244517346991568\n",
            "22.953916577603476\n",
            "22.67128008875223\n",
            "22.39638423318876\n",
            "22.12901164125674\n",
            "21.86895104423894\n",
            "21.6159971026618\n",
            "21.369950239418454\n",
            "21.130616477574595\n",
            "20.897807282725093\n",
            "20.671339409773307\n",
            "20.451034754008198\n",
            "20.236720206358285\n",
            "20.028227512704564\n",
            "19.825393137137777\n",
            "19.628058129049027\n",
            "19.436067993945173\n",
            "19.249272567884194\n",
            "19.067525895427927\n",
            "18.89068611101308\n",
            "18.71861532364361\n",
            "18.551179504810793\n",
            "18.38824837954936\n",
            "18.229695320541097\n",
            "18.07539724517942\n",
            "17.92523451551103\n",
            "17.779090840972994\n",
            "17.636853183845734\n",
            "17.498411667344907\n",
            "17.363659486276852\n",
            "17.23249282018471\n",
            "17.10481074891406\n",
            "16.980515170529035\n",
            "16.859510721511533\n",
            "16.741704699178268\n",
            "16.627006986251736\n",
            "16.51532997752339\n",
            "16.406588508548477\n",
            "16.300699786313896\n",
            "16.197583321821895\n",
            "16.097160864533883\n",
            "15.999356338620029\n",
            "15.90409578096197\n",
            "15.811307280856841\n",
            "15.720920921372585\n",
            "15.63286872230543\n",
            "15.54708458469176\n",
            "15.463504236827733\n",
            "15.382065181750992\n",
            "15.302706646140027\n",
            "15.22536953058758\n",
            "15.149996361205536\n",
            "15.07653124251957\n",
            "15.004919811612716\n",
            "14.93510919347772\n",
            "14.867047957538906\n",
            "14.800686075304762\n",
            "14.735974879113352\n",
            "14.67286702193281\n",
            "14.611316438180124\n",
            "14.551278305521373\n",
            "14.49270900761732\n",
            "14.435566097778187\n",
            "14.379808263491942\n",
            "14.325395291790175\n",
            "14.272288035415913\n",
            "14.220448379757478\n",
            "14.169839210512185\n",
            "14.12042438204349\n",
            "14.072168686394523\n",
            "14.025037822920368\n",
            "13.978998368500523\n",
            "13.934017748292069\n",
            "13.890064206982617\n",
            "13.84710678050081\n",
            "13.805115268140161\n",
            "13.764060205050052\n",
            "13.723912835045171\n",
            "13.68464508368181\n",
            "13.646229531546043\n",
            "13.60863938769503\n",
            "13.571848463188067\n",
            "13.535831144638786\n",
            "13.50056236771396\n",
            "13.466017590497215\n",
            "13.43217276662793\n",
            "13.399004318116075\n",
            "13.366489107722888\n",
            "13.334604410784356\n",
            "13.303327886339819\n",
            "13.272637547410396\n",
            "13.242511730251776\n",
            "13.212929062381882\n",
            "13.183868429155956\n",
            "13.155308938628316\n",
            "13.127229884400862\n",
            "13.099610706111694\n",
            "13.07243094716172\n",
            "13.045670209210597\n",
            "13.019308102893541\n",
            "12.993324194114324\n",
            "12.967697945153226\n",
            "12.942408649687032\n",
            "12.917435360644816\n",
            "12.89275680961058\n",
            "12.868351316220876\n",
            "12.844196685679247\n",
            "12.820270092101323\n",
            "12.796547944891831\n",
            "12.773005734705553\n",
            "12.749617854716915\n",
            "12.726357391860097\n",
            "12.703195881325327\n",
            "12.680103015800077\n",
            "12.65704629857484\n",
            "12.633990626480728\n",
            "12.610897784385187\n",
            "12.587725827202982\n",
            "12.564428317433736\n",
            "12.540953375148746\n",
            "12.517242481649605\n",
            "12.493228955441204\n",
            "12.468835986123668\n",
            "12.443974062548603\n",
            "12.41853755659363\n",
            "12.392400107077478\n",
            "12.365408261568419\n",
            "12.337372526503636\n",
            "12.308054453493863\n",
            "12.277147467510007\n",
            "12.244247443977912\n",
            "12.208805753260263\n",
            "12.17005074157738\n",
            "12.126848768127411\n",
            "12.07744039268422\n",
            "12.018893149520087\n",
            "11.945829277021822\n",
            "11.846998005454116\n",
            "11.694332830617062\n",
            "11.41164328136819\n",
            "11.058918548265725\n",
            "10.805374983079338\n",
            "10.622749942381924\n",
            "10.490724702210395\n",
            "10.394729558838357\n",
            "10.324327657295477\n",
            "10.272036866099091\n",
            "10.23247873915945\n",
            "10.201789006148452\n",
            "10.177361550816867\n",
            "10.15854195162697\n",
            "10.14700467760471\n",
            "10.136884073682106\n",
            "10.127980695584771\n",
            "10.119478326397443\n",
            "10.112110013370183\n",
            "10.103472803946193\n",
            "10.098474963633494\n",
            "10.072249692532242\n",
            "10.071494296126646\n",
            "10.07033016658977\n",
            "10.067782077455721\n",
            "10.024777025274249\n",
            "10.024423973236582\n",
            "10.024012670865089\n",
            "10.023511855666149\n",
            "10.022858318263289\n",
            "10.02189374740823\n",
            "10.020018926657395\n",
            "10.008847202758385\n",
            "10.007246324411936\n",
            "10.000636004529216\n",
            "9.99610251576419\n",
            "9.979704099643282\n",
            "9.978874085155518\n",
            "9.977381058457745\n",
            "9.971578456735932\n",
            "9.966007112358518\n",
            "9.959912790743882\n",
            "9.955359606921748\n",
            "9.943683555374955\n",
            "9.942509191449263\n",
            "9.939238642577243\n",
            "9.852243406401586\n",
            "9.852093799866774\n",
            "9.851939660296926\n",
            "9.85178000145302\n",
            "9.851613597193229\n",
            "9.851438892623566\n",
            "9.851253870437734\n",
            "9.85105584243696\n",
            "9.850841109977177\n",
            "9.850604381050104\n",
            "9.85033770179879\n",
            "9.850028326421384\n",
            "9.849653968245281\n",
            "9.849170410354429\n",
            "9.848470413649832\n",
            "9.847175036815205\n",
            "9.841375008511132\n",
            "9.83871809780674\n",
            "9.70962618876791\n",
            "9.709525856355828\n",
            "9.709425577330581\n",
            "9.709325188568453\n",
            "9.709224511714499\n",
            "9.709123350119787\n",
            "9.709021485045426\n",
            "9.708918670909604\n",
            "9.708814629270268\n",
            "9.708709041114727\n",
            "9.70860153684825\n",
            "9.70849168310383\n",
            "9.708378965079277\n",
            "9.708262762450694\n",
            "9.708142315844796\n",
            "9.70801667906448\n",
            "9.707884649156329\n",
            "9.707744660785789\n",
            "9.707594620701354\n",
            "9.707431636575894\n",
            "9.70725154820549\n",
            "9.707048060509493\n",
            "9.706810994878246\n",
            "9.706522328195202\n",
            "9.706145616705971\n",
            "9.70558957220911\n",
            "9.704508555490655\n",
            "9.698057024684768\n",
            "9.697137440312217\n",
            "9.69336869135336\n",
            "9.69067853273813\n",
            "9.682428358996333\n",
            "9.681850932981636\n",
            "9.6806198789466\n",
            "9.664973655377137\n",
            "9.66472519370965\n",
            "9.664406832310714\n",
            "9.663952828991057\n",
            "9.663142659877941\n",
            "9.660109040385292\n",
            "9.656459613912185\n",
            "9.654356635807472\n",
            "9.636671371954742\n",
            "9.636480062334295\n",
            "9.636249711876223\n",
            "9.635954533614486\n",
            "9.635533529668875\n",
            "9.634781987853703\n",
            "9.63196340659831\n",
            "9.628606365032462\n",
            "9.626619632963347\n",
            "9.61217781403249\n",
            "9.611976220845548\n",
            "9.611723713937069\n",
            "9.611378014970018\n",
            "9.61081550672073\n",
            "9.609353814136917\n",
            "9.309901563854213\n",
            "9.309815644572435\n",
            "9.309732085962484\n",
            "9.309650821604464\n",
            "9.30957178694316\n",
            "9.309494919235586\n",
            "9.309420157499966\n",
            "9.309347442466139\n",
            "9.309276716527387\n",
            "9.309207923693585\n",
            "9.309141009545689\n",
            "9.309075921191486\n",
            "9.309012607222567\n",
            "9.308951017672554\n",
            "9.308891103976443\n",
            "9.308832818931135\n",
            "9.308776116657027\n",
            "9.308720952560714\n",
            "9.308667283298712\n",
            "9.308615066742222\n",
            "9.308564261942832\n",
            "9.30851482909924\n",
            "9.308466729524854\n",
            "9.308419925616333\n",
            "9.308374380822984\n",
            "9.308330059617019\n",
            "9.30828692746465\n",
            "9.308244950797981\n",
            "9.308204096987673\n",
            "9.308164334316409\n",
            "9.308125631953043\n",
            "9.308087959927507\n",
            "9.308051289106395\n",
            "9.308015591169244\n",
            "9.307980838585438\n",
            "9.307947004591787\n",
            "9.3079140631707\n",
            "9.307881989028978\n",
            "9.307850757577183\n",
            "9.307820344909558\n",
            "9.307790727784537\n",
            "9.30776188360574\n",
            "9.307733790403539\n",
            "9.30770642681707\n",
            "9.307679772076785\n",
            "9.307653805987442\n",
            "9.307628508911574\n",
            "9.307603861753378\n",
            "9.307579845943067\n",
            "9.307556443421614\n",
            "9.30753363662591\n",
            "9.307511408474303\n",
            "9.307489742352539\n",
            "9.307468622100034\n",
            "9.307448031996534\n",
            "9.30742795674908\n",
            "9.307408381479354\n",
            "9.30738929171125\n",
            "9.307370673358887\n",
            "9.307352512714775\n",
            "9.307334796438354\n",
            "9.307317511544774\n",
            "9.307300645393926\n",
            "9.307284185679737\n",
            "9.307268120419687\n",
            "9.307252437944555\n",
            "9.307237126888381\n",
            "9.307222176178607\n",
            "9.307207575026437\n",
            "9.307193312917338\n",
            "9.307179379601724\n",
            "9.307165765085763\n",
            "9.307152459622348\n",
            "9.307139453702147\n",
            "9.307126738044788\n",
            "9.307114303590103\n",
            "9.307102141489441\n",
            "9.307090243097045\n",
            "9.307078599961432\n",
            "9.307067203816782\n",
            "9.307056046574303\n",
            "9.307045120313566\n",
            "9.307034417273723\n",
            "9.307023929844652\n",
            "9.307013650557925\n",
            "9.307003572077585\n",
            "9.306993687190733\n",
            "9.306983988797759\n",
            "9.306974469902269\n",
            "9.306965123600603\n",
            "9.306955943070852\n",
            "9.306946921561277\n",
            "9.306938052378113\n",
            "9.30692932887251\n",
            "9.306920744426597\n",
            "9.306912292438453\n",
            "9.306903966305784\n",
            "9.306895759408153\n",
            "9.306887665087443\n",
            "9.306879676626297\n",
            "9.306871787224136\n",
            "9.306863989970338\n",
            "9.30685627781409\n",
            "9.306848643530188\n",
            "9.306841079680133\n",
            "9.30683357856746\n",
            "9.306826132186243\n",
            "9.306818732161233\n",
            "9.306811369677924\n",
            "9.30680403540015\n",
            "9.30679671937245\n",
            "9.306789410903411\n",
            "9.306782098425286\n",
            "9.306774769323576\n",
            "9.306767409728506\n",
            "9.306760004257319\n",
            "9.306752535692755\n",
            "9.306744984577463\n",
            "9.306737328696428\n",
            "9.30672954240791\n",
            "9.306721595766273\n",
            "9.306713453353813\n",
            "9.306705072697538\n",
            "9.306696402080728\n",
            "9.306687377449329\n",
            "9.306677917925052\n",
            "9.306667919101026\n",
            "9.306657242667741\n",
            "9.306645699678576\n",
            "9.306633022158278\n",
            "9.306618811828029\n",
            "9.306602439834753\n",
            "9.306582828958469\n",
            "9.306557906369699\n",
            "9.306522893766891\n",
            "9.306462562209637\n",
            "9.306268431444124\n",
            "9.305530790377762\n",
            "9.305496839181368\n",
            "9.305438229889452\n",
            "9.30524822923971\n",
            "9.304574498600497\n",
            "9.304539057384671\n",
            "9.304474170554885\n",
            "9.304199253888049\n",
            "9.304034232563207\n",
            "9.30292092286542\n",
            "9.302903184057593\n",
            "9.302880440727256\n",
            "9.302847970301963\n",
            "9.302789869146793\n",
            "9.302569563569032\n",
            "9.302324394307222\n",
            "9.302149814399815\n",
            "9.301609145888\n",
            "9.301572034992141\n",
            "9.301493839753439\n",
            "9.300611483189696\n",
            "9.300592606308195\n",
            "9.300566896335722\n",
            "9.300525523701376\n",
            "9.30042194330629\n",
            "9.489629476783218\n",
            "9.489578758211971\n",
            "9.489528406007894\n",
            "9.489478363318112\n",
            "9.489428570281685\n",
            "9.489378963465793\n",
            "9.4893294751969\n",
            "9.489280032761494\n",
            "9.489230557443465\n",
            "9.489180963355258\n",
            "9.489131156006197\n",
            "9.48908103053242\n",
            "9.489030469486593\n",
            "9.488979340047734\n",
            "9.488927490457366\n",
            "9.488874745408292\n",
            "9.48882089999274\n",
            "9.488765711633308\n",
            "9.488708889132715\n",
            "9.488650077515025\n",
            "9.488588836560847\n",
            "9.488524609614448\n",
            "9.488456676868712\n",
            "9.488384082885752\n",
            "9.488305519300917\n",
            "9.48821912503069\n",
            "9.488122123651975\n",
            "9.488010109704135\n",
            "9.487875484987438\n",
            "9.48770348029915\n",
            "9.48745947937541\n",
            "9.487029446707968\n",
            "9.485506966306431\n",
            "9.482845265058204\n",
            "9.48223198538576\n",
            "9.475371709432885\n",
            "9.47522162879891\n",
            "9.475016172551124\n",
            "9.47468191182458\n",
            "9.473813768204076\n",
            "9.293223311334733\n",
            "9.29317114739921\n",
            "9.293120422061367\n",
            "9.29307109485753\n",
            "9.293023126460435\n",
            "9.292976478647248\n",
            "9.292931114268498\n",
            "9.29288699721787\n",
            "9.292844092402866\n",
            "9.292802365716256\n",
            "9.292761784008365\n",
            "9.292722315060107\n",
            "9.292683927556814\n",
            "9.292646591062745\n",
            "9.292610275996372\n",
            "9.292574953606312\n",
            "9.292540595947942\n",
            "9.292507175860699\n",
            "9.29247466694597\n",
            "9.292443043545658\n",
            "9.292412280721287\n",
            "9.292382354233734\n",
            "9.292353240523525\n",
            "9.292324916691667\n",
            "9.29229736048102\n",
            "9.292270550258204\n",
            "9.292244464995997\n",
            "9.292219084256235\n",
            "9.292194388173177\n",
            "9.292170357437355\n",
            "9.292146973279857\n",
            "9.292124217457054\n",
            "9.29210207223576\n",
            "9.292080520378788\n",
            "9.292059545130932\n",
            "9.292039130205325\n",
            "9.292019259770177\n",
            "9.291999918435872\n",
            "9.291981091242459\n",
            "9.291962763647444\n",
            "9.291944921513943\n",
            "9.291927551099178\n",
            "9.291910639043255\n",
            "9.291894172358285\n",
            "9.291878138417777\n",
            "9.29186252494634\n",
            "9.291847320009676\n",
            "9.291832512004813\n",
            "9.291818089650643\n",
            "9.291804041978693\n",
            "9.291790358324162\n",
            "9.291777028317174\n",
            "9.291764041874316\n",
            "9.291751389190352\n",
            "9.291739060730178\n",
            "9.29172704722101\n",
            "9.291715339644753\n",
            "9.291703929230588\n",
            "9.291692807447726\n",
            "9.291681965998402\n",
            "9.291671396810989\n",
            "9.29166109203333\n",
            "9.291651044026226\n",
            "9.291641245357088\n",
            "9.291631688793734\n",
            "9.291622367298356\n",
            "9.291613274021627\n",
            "9.29160440229693\n",
            "9.291595745634751\n",
            "9.291587297717166\n",
            "9.291579052392478\n",
            "9.29157100366994\n",
            "9.291563145714616\n",
            "9.29155547284233\n",
            "9.291547979514707\n",
            "9.291540660334308\n",
            "9.291533510039852\n",
            "9.291526523501513\n",
            "9.291519695716271\n",
            "9.291513021803352\n",
            "9.29150649699968\n",
            "9.291500116655424\n",
            "9.291493876229527\n",
            "9.291487771285293\n",
            "9.291481797485993\n",
            "9.29147595059043\n",
            "9.291470226448554\n",
            "9.291464620997004\n",
            "9.291459130254644\n",
            "9.291453750318011\n",
            "9.291448477356736\n",
            "9.291443307608821\n",
            "9.291438237375829\n",
            "9.291433263017923\n",
            "9.29142838094873\n",
            "9.291423587629994\n",
            "9.291418879566\n",
            "9.291414253297694\n",
            "9.291409705396452\n",
            "9.291405232457503\n",
            "9.291400831092812\n",
            "9.291396497923497\n",
            "9.291392229571537\n",
            "9.291388022650793\n",
            "9.291383873757132\n",
            "9.291379779457507\n",
            "9.291375736277873\n",
            "9.291371740689646\n",
            "9.291367789094494\n",
            "9.291363877807115\n",
            "9.29136000303566\n",
            "9.291356160859245\n",
            "9.291352347202075\n",
            "9.29134855780339\n",
            "9.291344788182357\n",
            "9.291341033596755\n",
            "9.291337288994082\n",
            "9.291333548953148\n",
            "9.291329807613902\n",
            "9.291326058592308\n",
            "9.291322294876284\n",
            "9.29131850869732\n",
            "9.291314691370392\n",
            "9.291310833092416\n",
            "9.291306922685342\n",
            "9.29130294726467\n",
            "9.29129889180558\n",
            "9.291294738566336\n",
            "9.291290466308606\n",
            "9.291286049222387\n",
            "9.291281455410813\n",
            "9.291276644699815\n",
            "9.291271565378093\n",
            "9.291266149175891\n",
            "9.291260303209903\n",
            "9.291253896409117\n",
            "9.29124673520659\n",
            "9.291238516519646\n",
            "9.291228727107761\n",
            "9.291216395916448\n",
            "9.291199345024303\n",
            "9.29117099317923\n",
            "9.291091479836558\n",
            "9.289253631979749\n",
            "9.289249753133582\n",
            "9.289245715699463\n",
            "9.2892414834338\n",
            "9.289237009539976\n",
            "9.28923223201128\n",
            "9.28922706611565\n",
            "9.289221391639511\n",
            "9.289215029836745\n",
            "9.289207698317362\n",
            "9.289198912964096\n",
            "9.28918774112277\n",
            "9.289172028687387\n",
            "9.289144884142575\n",
            "9.289056613126546\n",
            "9.288752321840235\n",
            "9.288735410081221\n",
            "9.288703622732672\n",
            "9.288548738511484\n",
            "9.288500175948597\n",
            "9.285819188135132\n",
            "9.285816709516265\n",
            "9.285814218339098\n",
            "9.28581170914667\n",
            "9.285809175805126\n",
            "9.285806611351196\n",
            "9.285804007796404\n",
            "9.285801355872422\n",
            "9.285798644694959\n",
            "9.285795861312673\n",
            "9.285792990090606\n",
            "9.2857900118496\n",
            "9.285786902636213\n",
            "9.285783631915633\n",
            "9.28578015983082\n",
            "9.285776432885422\n",
            "9.285772376829316\n",
            "9.285767884266297\n",
            "9.285762791518101\n",
            "9.285756831378622\n",
            "9.285749524252985\n",
            "9.28573988008789\n",
            "9.28572532826067\n",
            "9.285695322965072\n",
            "9.285417713756583\n",
            "9.285407633951065\n",
            "9.285391719402659\n",
            "9.285354237823647\n",
            "9.283011126940202\n",
            "9.283009308148028\n",
            "9.28300749039556\n",
            "9.283005670732235\n",
            "9.283003845932656\n",
            "9.283002012441381\n",
            "9.283000166304465\n",
            "9.282998303083849\n",
            "9.282996417748912\n",
            "9.28299450453763\n",
            "9.28299255677631\n",
            "9.282990566642232\n",
            "9.282988524845885\n",
            "9.282986420197888\n",
            "9.282984239006499\n",
            "9.282981964219617\n",
            "9.282979574169811\n",
            "9.282977040680413\n",
            "9.282974326100447\n",
            "9.2829713784536\n",
            "9.282968123064105\n",
            "9.28296444709938\n",
            "9.282960168472314\n",
            "9.28295496564189\n",
            "9.282948191117146\n",
            "9.282938234438982\n",
            "9.282919091102281\n",
            "9.282812558443679\n",
            "9.282792940666223\n",
            "9.282669304320581\n",
            "9.282654736735694\n",
            "9.282607377091791\n",
            "9.282443726069108\n",
            "9.282434673114157\n",
            "9.282417695985904\n",
            "9.282336020446456\n",
            "9.282308971111247\n",
            "9.279740571419172\n",
            "9.279739367598546\n",
            "9.279738180897755\n",
            "9.279737010350546\n",
            "9.2797358549815\n",
            "9.279734713802537\n",
            "9.27973358580891\n",
            "9.279732469974773\n",
            "9.279731365248091\n",
            "9.279730270544889\n",
            "9.279729184742619\n",
            "9.279728106672513\n",
            "9.279727035110662\n",
            "9.279725968767625\n",
            "9.279724906276122\n",
            "9.279723846176477\n",
            "9.279722786899171\n",
            "9.27972172674384\n",
            "9.279720663853729\n",
            "9.279719596184389\n",
            "9.279718521464941\n",
            "9.279717437149639\n",
            "9.279716340356678\n",
            "9.279715227789929\n",
            "9.279714095637527\n",
            "9.279712939438603\n",
            "9.279711753905284\n",
            "9.279710532680697\n",
            "9.279709268003257\n",
            "9.279707950230172\n",
            "9.279706567143062\n",
            "9.279705102904737\n",
            "9.279703536434349\n",
            "9.279701838765861\n",
            "9.279699968523216\n",
            "9.279697863649519\n",
            "9.279695424978383\n",
            "9.27969247978783\n",
            "9.279688687395529\n",
            "9.279683229628112\n",
            "9.279673273959203\n",
            "9.279631862157279\n",
            "9.27960453222162\n",
            "9.2794876623058\n",
            "9.279483367430913\n",
            "9.27947655842219\n",
            "9.279460312913551\n",
            "9.278013190845774\n",
            "9.278012464587274\n",
            "9.278011747451627\n",
            "9.278011038814997\n",
            "9.278010338041506\n",
            "9.278009644480225\n",
            "9.278008957461745\n",
            "9.278008276294283\n",
            "9.278007600259139\n",
            "9.27800692860548\n",
            "9.278006260544222\n",
            "9.278005595240844\n",
            "9.278004931806892\n",
            "9.278004269289827\n",
            "9.27800360666086\n",
            "9.278002942800198\n",
            "9.278002276479\n",
            "9.278001606337185\n",
            "9.278000930855768\n",
            "9.278000248322053\n",
            "9.277999556785362\n",
            "9.277998853999977\n",
            "9.277998137350558\n",
            "9.277997403753258\n",
            "9.277996649522207\n",
            "9.277995870185872\n",
            "9.27799506022889\n",
            "9.277994212719948\n",
            "9.277993318759856\n",
            "9.277992366634848\n",
            "9.277991340464855\n",
            "9.277990217939035\n",
            "9.277988966290353\n",
            "9.277987534582385\n",
            "9.277985837407217\n",
            "9.277983715479257\n",
            "9.277980819672713\n",
            "9.277976139850779\n",
            "9.277964256754391\n",
            "9.32132639370435\n",
            "9.321314847959707\n",
            "9.321303031658227\n",
            "9.32129088591845\n",
            "9.321278339365772\n",
            "9.321265304043438\n",
            "9.32125166952726\n",
            "9.321237294209935\n",
            "9.321221991956019\n",
            "9.321205510844692\n",
            "9.321187497655789\n",
            "9.321167434952766\n",
            "9.321144521051155\n",
            "9.321117417795298\n",
            "9.321083645824128\n",
            "9.321037826960556\n",
            "9.320964697120758\n",
            "9.32078643892362\n",
            "9.288322082802232\n",
            "9.288312662472423\n",
            "9.288303481636222\n",
            "9.288294533422928\n",
            "9.288285811149677\n",
            "9.288277308315957\n",
            "9.288269018598193\n",
            "9.288260935844542\n",
            "9.288253054069763\n",
            "9.288245367450248\n",
            "9.288237870319156\n",
            "9.288230557161679\n",
            "9.288223422610404\n",
            "9.288216461440804\n",
            "9.288209668566823\n",
            "9.288203039036533\n",
            "9.288196568027953\n",
            "9.288190250844861\n",
            "9.288184082912792\n",
            "9.288178059775031\n",
            "9.288172177088724\n",
            "9.288166430621061\n",
            "9.288160816245478\n",
            "9.28815532993798\n",
            "9.288149967773458\n",
            "9.288144725922082\n",
            "9.28813960064572\n",
            "9.288134588294406\n",
            "9.288129685302799\n",
            "9.288124888186683\n",
            "9.28812019353948\n",
            "9.28811559802873\n",
            "9.288111098392575\n",
            "9.28810669143623\n",
            "9.288102374028401\n",
            "9.288098143097638\n",
            "9.28809399562867\n",
            "9.28808992865859\n",
            "9.288085939273\n",
            "9.288082024601982\n",
            "9.288078181815937\n",
            "9.28807440812126\n",
            "9.288070700755771\n",
            "9.288067056983918\n",
            "9.28806347409169\n",
            "9.288059949381166\n",
            "9.288056480164697\n",
            "9.288053063758579\n",
            "9.288049697476216\n",
            "9.28804637862061\n",
            "9.288043104476133\n",
            "9.288039872299366\n",
            "9.288036679308947\n",
            "9.288033522674137\n",
            "9.288030399501977\n",
            "9.288027306822649\n",
            "9.288024241572806\n",
            "9.288021200576393\n",
            "9.288018180522421\n",
            "9.288015177939162\n",
            "9.288012189163826\n",
            "9.288009210306791\n",
            "9.28800623720909\n",
            "9.288003265391456\n",
            "9.288000289992798\n",
            "9.287997305695303\n",
            "9.28799430663243\n",
            "9.287991286274796\n",
            "9.28798823728717\n",
            "9.287985151347362\n",
            "9.28798201891387\n",
            "9.287978828923992\n",
            "9.287975568395625\n",
            "9.287972221893476\n",
            "9.287968770800218\n",
            "9.287965192300504\n"
          ]
        },
        {
          "output_type": "display_data",
          "data": {
            "text/plain": [
              "<Figure size 432x288 with 1 Axes>"
            ],
            "image/png": "[encoded data removed]"
          },
          "metadata": {
            "needs_background": "light"
          }
        },
        {
          "output_type": "stream",
          "name": "stdout",
          "text": [
            "m= [[ 3.10318319]\n",
            " [-2.49137469]\n",
            " [ 2.87804356]]\n"
          ]
        }
      ]
    },
    {
      "cell_type": "code",
      "source": [
        "y1 = m[0]*x*x +  m[1]*x +  m[2]\n",
        "plt.plot(x,y,'o',  label=\"data\")\n",
        "plt.plot(x,y1,'b-',  label=\"Model\")\n",
        "plt.title('data VS Model')\n",
        "plt.xlabel(\"x\")\n",
        "plt.ylabel(\"y\")\n",
        "plt.show()"
      ],
      "metadata": {
        "colab": {
          "base_uri": "https://localhost:8080/",
          "height": 295
        },
        "id": "cAqR8JQ8i_Gb",
        "outputId": "5b539d8a-4d6f-4e12-cbe6-614e2dd93f41"
      },
      "execution_count": 113,
      "outputs": [
        {
          "output_type": "display_data",
          "data": {
            "text/plain": [
              "<Figure size 432x288 with 1 Axes>"
            ],
            "image/png": "[encoded data removed]"
          },
          "metadata": {
            "needs_background": "light"
          }
        }
      ]
    },
    {
      "cell_type": "code",
      "source": [],
      "metadata": {
        "id": "J4Ssb4XZK4cV"
      },
      "execution_count": null,
      "outputs": []
    }
  ]
}